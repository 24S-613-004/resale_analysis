{
 "cells": [
  {
   "cell_type": "markdown",
   "metadata": {},
   "source": [
    "# Libraries"
   ]
  },
  {
   "cell_type": "code",
   "execution_count": 9,
   "metadata": {},
   "outputs": [],
   "source": [
    "import pandas as pd"
   ]
  },
  {
   "cell_type": "code",
   "execution_count": 10,
   "metadata": {},
   "outputs": [
    {
     "data": {
      "text/html": [
       "<div>\n",
       "<style scoped>\n",
       "    .dataframe tbody tr th:only-of-type {\n",
       "        vertical-align: middle;\n",
       "    }\n",
       "\n",
       "    .dataframe tbody tr th {\n",
       "        vertical-align: top;\n",
       "    }\n",
       "\n",
       "    .dataframe thead th {\n",
       "        text-align: right;\n",
       "    }\n",
       "</style>\n",
       "<table border=\"1\" class=\"dataframe\">\n",
       "  <thead>\n",
       "    <tr style=\"text-align: right;\">\n",
       "      <th></th>\n",
       "      <th>title</th>\n",
       "      <th>price</th>\n",
       "      <th>size</th>\n",
       "      <th>category</th>\n",
       "      <th>style</th>\n",
       "      <th>brand</th>\n",
       "      <th>ingest_timestamp</th>\n",
       "    </tr>\n",
       "  </thead>\n",
       "  <tbody>\n",
       "    <tr>\n",
       "      <th>0</th>\n",
       "      <td>#49 zimmermann lace off shoulder top</td>\n",
       "      <td>66.0</td>\n",
       "      <td>6</td>\n",
       "      <td>top</td>\n",
       "      <td>NaN</td>\n",
       "      <td>zimmerman</td>\n",
       "      <td>2024-Dec-30-17:25:11</td>\n",
       "    </tr>\n",
       "    <tr>\n",
       "      <th>1</th>\n",
       "      <td>*nwt agua by agua bendita - orquídea frutal az...</td>\n",
       "      <td>75.0</td>\n",
       "      <td>NaN</td>\n",
       "      <td>skirt</td>\n",
       "      <td>NaN</td>\n",
       "      <td>aguaByAguaBendita</td>\n",
       "      <td>2024-Dec-30-17:25:03</td>\n",
       "    </tr>\n",
       "    <tr>\n",
       "      <th>2</th>\n",
       "      <td>agua agua bendita sucre cut-out poplin floral ...</td>\n",
       "      <td>95.0</td>\n",
       "      <td>S</td>\n",
       "      <td>dress</td>\n",
       "      <td>NaN</td>\n",
       "      <td>aguaByAguaBendita</td>\n",
       "      <td>2024-Dec-30-17:25:01</td>\n",
       "    </tr>\n",
       "    <tr>\n",
       "      <th>3</th>\n",
       "      <td>agua and aguadilla milato fruit</td>\n",
       "      <td>220.0</td>\n",
       "      <td>XS</td>\n",
       "      <td>skirt</td>\n",
       "      <td>NaN</td>\n",
       "      <td>aguaByAguaBendita</td>\n",
       "      <td>2024-Dec-30-17:25:03</td>\n",
       "    </tr>\n",
       "    <tr>\n",
       "      <th>4</th>\n",
       "      <td>agua bendita astro esmeralda lavanda sarong pa...</td>\n",
       "      <td>110.0</td>\n",
       "      <td>One Size</td>\n",
       "      <td>skirt</td>\n",
       "      <td>NaN</td>\n",
       "      <td>aguaByAguaBendita</td>\n",
       "      <td>2024-Dec-30-17:25:03</td>\n",
       "    </tr>\n",
       "  </tbody>\n",
       "</table>\n",
       "</div>"
      ],
      "text/plain": [
       "                                               title  price      size  \\\n",
       "0               #49 zimmermann lace off shoulder top   66.0         6   \n",
       "1  *nwt agua by agua bendita - orquídea frutal az...   75.0       NaN   \n",
       "2  agua agua bendita sucre cut-out poplin floral ...   95.0         S   \n",
       "3                    agua and aguadilla milato fruit  220.0        XS   \n",
       "4  agua bendita astro esmeralda lavanda sarong pa...  110.0  One Size   \n",
       "\n",
       "  category style              brand      ingest_timestamp  \n",
       "0      top   NaN          zimmerman  2024-Dec-30-17:25:11  \n",
       "1    skirt   NaN  aguaByAguaBendita  2024-Dec-30-17:25:03  \n",
       "2    dress   NaN  aguaByAguaBendita  2024-Dec-30-17:25:01  \n",
       "3    skirt   NaN  aguaByAguaBendita  2024-Dec-30-17:25:03  \n",
       "4    skirt   NaN  aguaByAguaBendita  2024-Dec-30-17:25:03  "
      ]
     },
     "execution_count": 10,
     "metadata": {},
     "output_type": "execute_result"
    }
   ],
   "source": [
    "df = pd.read_csv(\"resell_prices.csv\")\n",
    "df.head()"
   ]
  },
  {
   "cell_type": "code",
   "execution_count": 11,
   "metadata": {},
   "outputs": [
    {
     "name": "stdout",
     "output_type": "stream",
     "text": [
      "                brand category       price\n",
      "0   aguaByAguaBendita    dress  421.815789\n",
      "1   aguaByAguaBendita    skirt  299.297872\n",
      "2   aguaByAguaBendita      top   45.726316\n",
      "3                doen    dress  183.482759\n",
      "4                doen    skirt  159.000000\n",
      "5                doen      top  122.472727\n",
      "6          hill_house    dress   89.119403\n",
      "7          hill_house    skirt   65.500000\n",
      "8          hill_house      top   32.551020\n",
      "9         reformation    dress   98.788991\n",
      "10        reformation    skirt   64.388889\n",
      "11        reformation      top   45.726316\n",
      "12          zimmerman    dress  208.767442\n",
      "13          zimmerman    skirt   25.000000\n",
      "14          zimmerman      top  235.375000\n"
     ]
    }
   ],
   "source": [
    "print(df.groupby(['brand','category'])['price'].mean().reset_index())"
   ]
  },
  {
   "cell_type": "code",
   "execution_count": 12,
   "metadata": {},
   "outputs": [
    {
     "data": {
      "text/plain": [
       "brand              category\n",
       "reformation        dress       109\n",
       "                   top          95\n",
       "aguaByAguaBendita  top          95\n",
       "hill_house         dress        67\n",
       "doen               dress        58\n",
       "                   top          55\n",
       "reformation        skirt        54\n",
       "doen               skirt        49\n",
       "hill_house         top          49\n",
       "                   skirt        48\n",
       "aguaByAguaBendita  skirt        47\n",
       "zimmerman          dress        43\n",
       "aguaByAguaBendita  dress        38\n",
       "zimmerman          top           8\n",
       "                   skirt         1\n",
       "Name: count, dtype: int64"
      ]
     },
     "execution_count": 12,
     "metadata": {},
     "output_type": "execute_result"
    }
   ],
   "source": [
    "df[['brand','category']].value_counts()"
   ]
  }
 ],
 "metadata": {
  "kernelspec": {
   "display_name": "Python 3",
   "language": "python",
   "name": "python3"
  },
  "language_info": {
   "codemirror_mode": {
    "name": "ipython",
    "version": 3
   },
   "file_extension": ".py",
   "mimetype": "text/x-python",
   "name": "python",
   "nbconvert_exporter": "python",
   "pygments_lexer": "ipython3",
   "version": "3.12.4"
  }
 },
 "nbformat": 4,
 "nbformat_minor": 2
}
