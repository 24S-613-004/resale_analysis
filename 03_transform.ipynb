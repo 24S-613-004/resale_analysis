{
 "cells": [
  {
   "cell_type": "markdown",
   "metadata": {},
   "source": [
    "# Libraries"
   ]
  },
  {
   "cell_type": "code",
   "execution_count": 1,
   "metadata": {},
   "outputs": [],
   "source": [
    "import pandas as pd"
   ]
  },
  {
   "cell_type": "code",
   "execution_count": 2,
   "metadata": {},
   "outputs": [
    {
     "data": {
      "text/html": [
       "<div>\n",
       "<style scoped>\n",
       "    .dataframe tbody tr th:only-of-type {\n",
       "        vertical-align: middle;\n",
       "    }\n",
       "\n",
       "    .dataframe tbody tr th {\n",
       "        vertical-align: top;\n",
       "    }\n",
       "\n",
       "    .dataframe thead th {\n",
       "        text-align: right;\n",
       "    }\n",
       "</style>\n",
       "<table border=\"1\" class=\"dataframe\">\n",
       "  <thead>\n",
       "    <tr style=\"text-align: right;\">\n",
       "      <th></th>\n",
       "      <th>title</th>\n",
       "      <th>price</th>\n",
       "      <th>size</th>\n",
       "      <th>category</th>\n",
       "      <th>style</th>\n",
       "      <th>brand</th>\n",
       "      <th>ingest_timestamp</th>\n",
       "    </tr>\n",
       "  </thead>\n",
       "  <tbody>\n",
       "    <tr>\n",
       "      <th>0</th>\n",
       "      <td>#49 zimmermann lace off shoulder top</td>\n",
       "      <td>66.0</td>\n",
       "      <td>6</td>\n",
       "      <td>top</td>\n",
       "      <td>NaN</td>\n",
       "      <td>zimmerman</td>\n",
       "      <td>2025-Jan-01-10:50:17</td>\n",
       "    </tr>\n",
       "    <tr>\n",
       "      <th>1</th>\n",
       "      <td>* brand new w/ tags* reformation elle knit ski...</td>\n",
       "      <td>55.0</td>\n",
       "      <td>S</td>\n",
       "      <td>skirt</td>\n",
       "      <td>NaN</td>\n",
       "      <td>reformation</td>\n",
       "      <td>2024-Dec-30-23:28:26</td>\n",
       "    </tr>\n",
       "    <tr>\n",
       "      <th>2</th>\n",
       "      <td>*hp* reformation ballet maxi dress in tulip pink</td>\n",
       "      <td>90.0</td>\n",
       "      <td>M</td>\n",
       "      <td>dress</td>\n",
       "      <td>NaN</td>\n",
       "      <td>reformation</td>\n",
       "      <td>2025-Jan-01-10:50:12</td>\n",
       "    </tr>\n",
       "    <tr>\n",
       "      <th>3</th>\n",
       "      <td>*nwt agua by agua bendita - orquídea frutal az...</td>\n",
       "      <td>75.0</td>\n",
       "      <td>NaN</td>\n",
       "      <td>skirt</td>\n",
       "      <td>NaN</td>\n",
       "      <td>aguaByAguaBendita</td>\n",
       "      <td>2025-Jan-01-10:50:09</td>\n",
       "    </tr>\n",
       "    <tr>\n",
       "      <th>4</th>\n",
       "      <td>agua agua bendita sucre cut-out poplin floral ...</td>\n",
       "      <td>95.0</td>\n",
       "      <td>S</td>\n",
       "      <td>dress</td>\n",
       "      <td>NaN</td>\n",
       "      <td>aguaByAguaBendita</td>\n",
       "      <td>2025-Jan-01-10:50:08</td>\n",
       "    </tr>\n",
       "  </tbody>\n",
       "</table>\n",
       "</div>"
      ],
      "text/plain": [
       "                                               title  price size category  \\\n",
       "0               #49 zimmermann lace off shoulder top   66.0    6      top   \n",
       "1  * brand new w/ tags* reformation elle knit ski...   55.0    S    skirt   \n",
       "2   *hp* reformation ballet maxi dress in tulip pink   90.0    M    dress   \n",
       "3  *nwt agua by agua bendita - orquídea frutal az...   75.0  NaN    skirt   \n",
       "4  agua agua bendita sucre cut-out poplin floral ...   95.0    S    dress   \n",
       "\n",
       "  style              brand      ingest_timestamp  \n",
       "0   NaN          zimmerman  2025-Jan-01-10:50:17  \n",
       "1   NaN        reformation  2024-Dec-30-23:28:26  \n",
       "2   NaN        reformation  2025-Jan-01-10:50:12  \n",
       "3   NaN  aguaByAguaBendita  2025-Jan-01-10:50:09  \n",
       "4   NaN  aguaByAguaBendita  2025-Jan-01-10:50:08  "
      ]
     },
     "execution_count": 2,
     "metadata": {},
     "output_type": "execute_result"
    }
   ],
   "source": [
    "df = pd.read_csv(\"resell_prices.csv\")\n",
    "df.head()"
   ]
  },
  {
   "cell_type": "code",
   "execution_count": 3,
   "metadata": {},
   "outputs": [
    {
     "name": "stdout",
     "output_type": "stream",
     "text": [
      "                brand category       price\n",
      "0   aguaByAguaBendita    dress  416.450000\n",
      "1   aguaByAguaBendita    skirt  299.297872\n",
      "2   aguaByAguaBendita      top   44.797101\n",
      "3                doen    dress  186.373494\n",
      "4                doen    skirt  158.320000\n",
      "5                doen      top  115.257143\n",
      "6          hill_house    dress   84.548387\n",
      "7          hill_house    skirt   63.627451\n",
      "8          hill_house      top   33.000000\n",
      "9         reformation    dress   99.756410\n",
      "10        reformation    skirt   63.933333\n",
      "11        reformation      top   44.797101\n",
      "12          zimmerman    dress  208.767442\n",
      "13          zimmerman    skirt   25.000000\n",
      "14          zimmerman      top  235.375000\n"
     ]
    }
   ],
   "source": [
    "print(df.groupby(['brand','category'])['price'].mean().reset_index())"
   ]
  },
  {
   "cell_type": "code",
   "execution_count": 4,
   "metadata": {},
   "outputs": [
    {
     "data": {
      "text/plain": [
       "brand              category\n",
       "reformation        dress       156\n",
       "                   top         138\n",
       "aguaByAguaBendita  top         138\n",
       "hill_house         dress        93\n",
       "doen               dress        83\n",
       "reformation        skirt        75\n",
       "doen               top          70\n",
       "hill_house         skirt        51\n",
       "                   top          50\n",
       "doen               skirt        50\n",
       "aguaByAguaBendita  skirt        47\n",
       "zimmerman          dress        43\n",
       "aguaByAguaBendita  dress        40\n",
       "zimmerman          top           8\n",
       "                   skirt         1\n",
       "Name: count, dtype: int64"
      ]
     },
     "execution_count": 4,
     "metadata": {},
     "output_type": "execute_result"
    }
   ],
   "source": [
    "df[['brand','category']].value_counts()"
   ]
  }
 ],
 "metadata": {
  "kernelspec": {
   "display_name": "Python 3",
   "language": "python",
   "name": "python3"
  },
  "language_info": {
   "codemirror_mode": {
    "name": "ipython",
    "version": 3
   },
   "file_extension": ".py",
   "mimetype": "text/x-python",
   "name": "python",
   "nbconvert_exporter": "python",
   "pygments_lexer": "ipython3",
   "version": "3.12.4"
  }
 },
 "nbformat": 4,
 "nbformat_minor": 2
}
