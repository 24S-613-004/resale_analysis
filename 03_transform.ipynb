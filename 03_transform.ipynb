{
 "cells": [
  {
   "cell_type": "markdown",
   "metadata": {},
   "source": [
    "# Libraries"
   ]
  },
  {
   "cell_type": "code",
   "execution_count": 2,
   "metadata": {},
   "outputs": [],
   "source": [
    "import pandas as pd"
   ]
  },
  {
   "cell_type": "code",
   "execution_count": 5,
   "metadata": {},
   "outputs": [
    {
     "data": {
      "text/html": [
       "<div>\n",
       "<style scoped>\n",
       "    .dataframe tbody tr th:only-of-type {\n",
       "        vertical-align: middle;\n",
       "    }\n",
       "\n",
       "    .dataframe tbody tr th {\n",
       "        vertical-align: top;\n",
       "    }\n",
       "\n",
       "    .dataframe thead th {\n",
       "        text-align: right;\n",
       "    }\n",
       "</style>\n",
       "<table border=\"1\" class=\"dataframe\">\n",
       "  <thead>\n",
       "    <tr style=\"text-align: right;\">\n",
       "      <th></th>\n",
       "      <th>title</th>\n",
       "      <th>price</th>\n",
       "      <th>size</th>\n",
       "      <th>category</th>\n",
       "      <th>style</th>\n",
       "      <th>ingest_timestamp</th>\n",
       "    </tr>\n",
       "  </thead>\n",
       "  <tbody>\n",
       "    <tr>\n",
       "      <th>0</th>\n",
       "      <td>#49 zimmermann lace off shoulder top</td>\n",
       "      <td>66.0</td>\n",
       "      <td>6</td>\n",
       "      <td>skirt</td>\n",
       "      <td>NaN</td>\n",
       "      <td>2024-Dec-29-22:32:23</td>\n",
       "    </tr>\n",
       "    <tr>\n",
       "      <th>1</th>\n",
       "      <td>*nwt agua by agua bendita - orquídea frutal az...</td>\n",
       "      <td>75.0</td>\n",
       "      <td>NaN</td>\n",
       "      <td>skirt</td>\n",
       "      <td>NaN</td>\n",
       "      <td>2024-Dec-29-22:29:10</td>\n",
       "    </tr>\n",
       "    <tr>\n",
       "      <th>2</th>\n",
       "      <td>agua agua bendita sucre cut-out poplin floral ...</td>\n",
       "      <td>95.0</td>\n",
       "      <td>S</td>\n",
       "      <td>skirt</td>\n",
       "      <td>NaN</td>\n",
       "      <td>2024-Dec-29-22:29:08</td>\n",
       "    </tr>\n",
       "    <tr>\n",
       "      <th>3</th>\n",
       "      <td>agua and aguadilla milato fruit</td>\n",
       "      <td>220.0</td>\n",
       "      <td>XS</td>\n",
       "      <td>skirt</td>\n",
       "      <td>NaN</td>\n",
       "      <td>2024-Dec-29-22:29:10</td>\n",
       "    </tr>\n",
       "    <tr>\n",
       "      <th>4</th>\n",
       "      <td>agua bendita astro esmeralda lavanda sarong pa...</td>\n",
       "      <td>110.0</td>\n",
       "      <td>One Size</td>\n",
       "      <td>skirt</td>\n",
       "      <td>NaN</td>\n",
       "      <td>2024-Dec-29-22:29:10</td>\n",
       "    </tr>\n",
       "  </tbody>\n",
       "</table>\n",
       "</div>"
      ],
      "text/plain": [
       "                                               title  price      size  \\\n",
       "0               #49 zimmermann lace off shoulder top   66.0         6   \n",
       "1  *nwt agua by agua bendita - orquídea frutal az...   75.0       NaN   \n",
       "2  agua agua bendita sucre cut-out poplin floral ...   95.0         S   \n",
       "3                    agua and aguadilla milato fruit  220.0        XS   \n",
       "4  agua bendita astro esmeralda lavanda sarong pa...  110.0  One Size   \n",
       "\n",
       "  category style      ingest_timestamp  \n",
       "0    skirt   NaN  2024-Dec-29-22:32:23  \n",
       "1    skirt   NaN  2024-Dec-29-22:29:10  \n",
       "2    skirt   NaN  2024-Dec-29-22:29:08  \n",
       "3    skirt   NaN  2024-Dec-29-22:29:10  \n",
       "4    skirt   NaN  2024-Dec-29-22:29:10  "
      ]
     },
     "execution_count": 5,
     "metadata": {},
     "output_type": "execute_result"
    }
   ],
   "source": [
    "df = pd.read_csv(\"resell_prices.csv\")\n",
    "df.head()"
   ]
  }
 ],
 "metadata": {
  "kernelspec": {
   "display_name": "Python 3",
   "language": "python",
   "name": "python3"
  },
  "language_info": {
   "codemirror_mode": {
    "name": "ipython",
    "version": 3
   },
   "file_extension": ".py",
   "mimetype": "text/x-python",
   "name": "python",
   "nbconvert_exporter": "python",
   "pygments_lexer": "ipython3",
   "version": "3.12.4"
  }
 },
 "nbformat": 4,
 "nbformat_minor": 2
}
